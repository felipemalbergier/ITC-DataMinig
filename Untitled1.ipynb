{
 "cells": [
  {
   "cell_type": "markdown",
   "metadata": {},
   "source": [
    "# ITC Data Mining Project"
   ]
  },
  {
   "cell_type": "code",
   "execution_count": 1,
   "metadata": {},
   "outputs": [],
   "source": [
    "import requests\n",
    "from bs4 import BeautifulSoup\n"
   ]
  },
  {
   "cell_type": "code",
   "execution_count": 3,
   "metadata": {},
   "outputs": [],
   "source": [
    "URL_news = \"https://www.investopedia.com/news/12-stocks-may-plunge-investors-harvest-tax-losses/\"\n",
    "r = requests.get(URL_news)\n",
    "soup_news = BeautifulSoup(r.text,'lxml')"
   ]
  },
  {
   "cell_type": "code",
   "execution_count": 35,
   "metadata": {},
   "outputs": [
    {
     "name": "stdout",
     "output_type": "stream",
     "text": [
      "\n",
      "\n",
      "\n",
      "\n"
     ]
    },
    {
     "data": {
      "text/plain": [
       "True"
      ]
     },
     "execution_count": 35,
     "metadata": {},
     "output_type": "execute_result"
    }
   ],
   "source": [
    "hrefs = soup_news.find_all('',{'href': True})\n",
    "\n",
    "hh = []\n",
    "for u in hrefs:\n",
    "    if re.match(r'/[^/]',u['href']):\n",
    "        hh.append(u['href'])\n",
    "print('\\n\\n\\n')\n",
    "hhh = [u['href'] for u in hrefs if re.match(r'/[^/]',u['href'])]\n",
    "hhh==hh\n"
   ]
  },
  {
   "cell_type": "code",
   "execution_count": 2,
   "metadata": {},
   "outputs": [],
   "source": [
    "BASE_URL = \"https://www.investopedia.com\"\n",
    "NEWS_URL = r'/news/?page={}'\n",
    "r = requests.get(BASE_URL+NEWS_URL.format(0))\n",
    "soup = BeautifulSoup(r.text,'lxml')"
   ]
  },
  {
   "cell_type": "code",
   "execution_count": 3,
   "metadata": {
    "scrolled": false
   },
   "outputs": [
    {
     "name": "stdout",
     "output_type": "stream",
     "text": [
      "CLICK ENTERd\n",
      "------------------------------------------------------------------------\n",
      "            URL: https://www.investopedia.com/news/extreme-unusual-selling-says-bounce-near/\n",
      "            Title: Extreme Unusual Selling Says a Bounce Is Near\n",
      "            Date: 2018-10-26T16:26:00-06:00\n",
      "            Author: Lucas Downey\n",
      "            Len of Content: 40\n",
      "            \n",
      "CLICK ENTER\n",
      "------------------------------------------------------------------------\n",
      "            URL: https://www.investopedia.com/updates/stock-market-today/\n",
      "            Title: Bearing the Brunt of the Sell-Off\n",
      "            Date: 2018-10-16T14:52:00-06:00\n",
      "            Author: Caleb Silver\n",
      "            Len of Content: 35\n",
      "            \n",
      "CLICK ENTER\n",
      "------------------------------------------------------------------------\n",
      "            URL: https://www.investopedia.com/news/canadian-marijuana-legalization-creates-national-shortage/\n",
      "            Title: Canadian Marijuana Legalization Creates National Shortage\n",
      "            Date: 2018-10-26T12:58:00-06:00\n",
      "            Author: Nathan Reiff\n",
      "            Len of Content: 19\n",
      "            \n",
      "CLICK ENTERd\n"
     ]
    },
    {
     "ename": "KeyboardInterrupt",
     "evalue": "",
     "output_type": "error",
     "traceback": [
      "\u001b[1;31m---------------------------------------------------------------------------\u001b[0m",
      "\u001b[1;31mKeyboardInterrupt\u001b[0m                         Traceback (most recent call last)",
      "\u001b[1;32mc:\\program files\\python36\\lib\\site-packages\\ipykernel\\kernelbase.py\u001b[0m in \u001b[0;36m_input_request\u001b[1;34m(self, prompt, ident, parent, password)\u001b[0m\n\u001b[0;32m    728\u001b[0m             \u001b[1;32mtry\u001b[0m\u001b[1;33m:\u001b[0m\u001b[1;33m\u001b[0m\u001b[0m\n\u001b[1;32m--> 729\u001b[1;33m                 \u001b[0mident\u001b[0m\u001b[1;33m,\u001b[0m \u001b[0mreply\u001b[0m \u001b[1;33m=\u001b[0m \u001b[0mself\u001b[0m\u001b[1;33m.\u001b[0m\u001b[0msession\u001b[0m\u001b[1;33m.\u001b[0m\u001b[0mrecv\u001b[0m\u001b[1;33m(\u001b[0m\u001b[0mself\u001b[0m\u001b[1;33m.\u001b[0m\u001b[0mstdin_socket\u001b[0m\u001b[1;33m,\u001b[0m \u001b[1;36m0\u001b[0m\u001b[1;33m)\u001b[0m\u001b[1;33m\u001b[0m\u001b[0m\n\u001b[0m\u001b[0;32m    730\u001b[0m             \u001b[1;32mexcept\u001b[0m \u001b[0mException\u001b[0m\u001b[1;33m:\u001b[0m\u001b[1;33m\u001b[0m\u001b[0m\n",
      "\u001b[1;32mc:\\program files\\python36\\lib\\site-packages\\jupyter_client\\session.py\u001b[0m in \u001b[0;36mrecv\u001b[1;34m(self, socket, mode, content, copy)\u001b[0m\n\u001b[0;32m    802\u001b[0m         \u001b[1;32mtry\u001b[0m\u001b[1;33m:\u001b[0m\u001b[1;33m\u001b[0m\u001b[0m\n\u001b[1;32m--> 803\u001b[1;33m             \u001b[0mmsg_list\u001b[0m \u001b[1;33m=\u001b[0m \u001b[0msocket\u001b[0m\u001b[1;33m.\u001b[0m\u001b[0mrecv_multipart\u001b[0m\u001b[1;33m(\u001b[0m\u001b[0mmode\u001b[0m\u001b[1;33m,\u001b[0m \u001b[0mcopy\u001b[0m\u001b[1;33m=\u001b[0m\u001b[0mcopy\u001b[0m\u001b[1;33m)\u001b[0m\u001b[1;33m\u001b[0m\u001b[0m\n\u001b[0m\u001b[0;32m    804\u001b[0m         \u001b[1;32mexcept\u001b[0m \u001b[0mzmq\u001b[0m\u001b[1;33m.\u001b[0m\u001b[0mZMQError\u001b[0m \u001b[1;32mas\u001b[0m \u001b[0me\u001b[0m\u001b[1;33m:\u001b[0m\u001b[1;33m\u001b[0m\u001b[0m\n",
      "\u001b[1;32mc:\\program files\\python36\\lib\\site-packages\\zmq\\sugar\\socket.py\u001b[0m in \u001b[0;36mrecv_multipart\u001b[1;34m(self, flags, copy, track)\u001b[0m\n\u001b[0;32m    465\u001b[0m         \"\"\"\n\u001b[1;32m--> 466\u001b[1;33m         \u001b[0mparts\u001b[0m \u001b[1;33m=\u001b[0m \u001b[1;33m[\u001b[0m\u001b[0mself\u001b[0m\u001b[1;33m.\u001b[0m\u001b[0mrecv\u001b[0m\u001b[1;33m(\u001b[0m\u001b[0mflags\u001b[0m\u001b[1;33m,\u001b[0m \u001b[0mcopy\u001b[0m\u001b[1;33m=\u001b[0m\u001b[0mcopy\u001b[0m\u001b[1;33m,\u001b[0m \u001b[0mtrack\u001b[0m\u001b[1;33m=\u001b[0m\u001b[0mtrack\u001b[0m\u001b[1;33m)\u001b[0m\u001b[1;33m]\u001b[0m\u001b[1;33m\u001b[0m\u001b[0m\n\u001b[0m\u001b[0;32m    467\u001b[0m         \u001b[1;31m# have first part already, only loop while more to receive\u001b[0m\u001b[1;33m\u001b[0m\u001b[1;33m\u001b[0m\u001b[0m\n",
      "\u001b[1;32mzmq\\backend\\cython\\socket.pyx\u001b[0m in \u001b[0;36mzmq.backend.cython.socket.Socket.recv\u001b[1;34m()\u001b[0m\n",
      "\u001b[1;32mzmq\\backend\\cython\\socket.pyx\u001b[0m in \u001b[0;36mzmq.backend.cython.socket.Socket.recv\u001b[1;34m()\u001b[0m\n",
      "\u001b[1;32mzmq\\backend\\cython\\socket.pyx\u001b[0m in \u001b[0;36mzmq.backend.cython.socket._recv_copy\u001b[1;34m()\u001b[0m\n",
      "\u001b[1;32mc:\\program files\\python36\\lib\\site-packages\\zmq\\backend\\cython\\checkrc.pxd\u001b[0m in \u001b[0;36mzmq.backend.cython.checkrc._check_rc\u001b[1;34m()\u001b[0m\n",
      "\u001b[1;31mKeyboardInterrupt\u001b[0m: ",
      "\nDuring handling of the above exception, another exception occurred:\n",
      "\u001b[1;31mKeyboardInterrupt\u001b[0m                         Traceback (most recent call last)",
      "\u001b[1;32m<ipython-input-3-72c1defb75a1>\u001b[0m in \u001b[0;36m<module>\u001b[1;34m()\u001b[0m\n\u001b[0;32m      5\u001b[0m     \u001b[1;32mfor\u001b[0m \u001b[0mtag\u001b[0m \u001b[1;32min\u001b[0m \u001b[0mh3\u001b[0m\u001b[1;33m:\u001b[0m\u001b[1;33m\u001b[0m\u001b[0m\n\u001b[0;32m      6\u001b[0m         \u001b[1;32mif\u001b[0m \u001b[1;32mnot\u001b[0m \u001b[0mtag\u001b[0m\u001b[1;33m.\u001b[0m\u001b[0mfind\u001b[0m\u001b[1;33m(\u001b[0m\u001b[1;34m'a'\u001b[0m\u001b[1;33m,\u001b[0m\u001b[1;33m{\u001b[0m\u001b[1;34m\"href\"\u001b[0m\u001b[1;33m:\u001b[0m\u001b[1;32mTrue\u001b[0m\u001b[1;33m}\u001b[0m\u001b[1;33m)\u001b[0m\u001b[1;33m[\u001b[0m\u001b[1;34m'href'\u001b[0m\u001b[1;33m]\u001b[0m\u001b[1;33m.\u001b[0m\u001b[0mstartswith\u001b[0m\u001b[1;33m(\u001b[0m\u001b[1;34mr'/ask'\u001b[0m\u001b[1;33m)\u001b[0m\u001b[1;33m:\u001b[0m\u001b[1;33m\u001b[0m\u001b[0m\n\u001b[1;32m----> 7\u001b[1;33m             \u001b[0minput\u001b[0m\u001b[1;33m(\u001b[0m\u001b[1;34m'CLICK ENTER'\u001b[0m\u001b[1;33m)\u001b[0m\u001b[1;33m\u001b[0m\u001b[0m\n\u001b[0m\u001b[0;32m      8\u001b[0m             \u001b[0mhref\u001b[0m \u001b[1;33m=\u001b[0m \u001b[0mtag\u001b[0m\u001b[1;33m.\u001b[0m\u001b[0mfind\u001b[0m\u001b[1;33m(\u001b[0m\u001b[1;34m'a'\u001b[0m\u001b[1;33m,\u001b[0m\u001b[1;33m{\u001b[0m\u001b[1;34m\"href\"\u001b[0m\u001b[1;33m:\u001b[0m\u001b[1;32mTrue\u001b[0m\u001b[1;33m}\u001b[0m\u001b[1;33m)\u001b[0m\u001b[1;33m[\u001b[0m\u001b[1;34m'href'\u001b[0m\u001b[1;33m]\u001b[0m\u001b[1;33m\u001b[0m\u001b[0m\n\u001b[0;32m      9\u001b[0m             \u001b[0murl\u001b[0m \u001b[1;33m=\u001b[0m \u001b[0mBASE_URL\u001b[0m\u001b[1;33m+\u001b[0m\u001b[0mhref\u001b[0m\u001b[1;33m\u001b[0m\u001b[0m\n",
      "\u001b[1;32mc:\\program files\\python36\\lib\\site-packages\\ipykernel\\kernelbase.py\u001b[0m in \u001b[0;36mraw_input\u001b[1;34m(self, prompt)\u001b[0m\n\u001b[0;32m    702\u001b[0m             \u001b[0mself\u001b[0m\u001b[1;33m.\u001b[0m\u001b[0m_parent_ident\u001b[0m\u001b[1;33m,\u001b[0m\u001b[1;33m\u001b[0m\u001b[0m\n\u001b[0;32m    703\u001b[0m             \u001b[0mself\u001b[0m\u001b[1;33m.\u001b[0m\u001b[0m_parent_header\u001b[0m\u001b[1;33m,\u001b[0m\u001b[1;33m\u001b[0m\u001b[0m\n\u001b[1;32m--> 704\u001b[1;33m             \u001b[0mpassword\u001b[0m\u001b[1;33m=\u001b[0m\u001b[1;32mFalse\u001b[0m\u001b[1;33m,\u001b[0m\u001b[1;33m\u001b[0m\u001b[0m\n\u001b[0m\u001b[0;32m    705\u001b[0m         )\n\u001b[0;32m    706\u001b[0m \u001b[1;33m\u001b[0m\u001b[0m\n",
      "\u001b[1;32mc:\\program files\\python36\\lib\\site-packages\\ipykernel\\kernelbase.py\u001b[0m in \u001b[0;36m_input_request\u001b[1;34m(self, prompt, ident, parent, password)\u001b[0m\n\u001b[0;32m    732\u001b[0m             \u001b[1;32mexcept\u001b[0m \u001b[0mKeyboardInterrupt\u001b[0m\u001b[1;33m:\u001b[0m\u001b[1;33m\u001b[0m\u001b[0m\n\u001b[0;32m    733\u001b[0m                 \u001b[1;31m# re-raise KeyboardInterrupt, to truncate traceback\u001b[0m\u001b[1;33m\u001b[0m\u001b[1;33m\u001b[0m\u001b[0m\n\u001b[1;32m--> 734\u001b[1;33m                 \u001b[1;32mraise\u001b[0m \u001b[0mKeyboardInterrupt\u001b[0m\u001b[1;33m\u001b[0m\u001b[0m\n\u001b[0m\u001b[0;32m    735\u001b[0m             \u001b[1;32melse\u001b[0m\u001b[1;33m:\u001b[0m\u001b[1;33m\u001b[0m\u001b[0m\n\u001b[0;32m    736\u001b[0m                 \u001b[1;32mbreak\u001b[0m\u001b[1;33m\u001b[0m\u001b[0m\n",
      "\u001b[1;31mKeyboardInterrupt\u001b[0m: "
     ]
    }
   ],
   "source": [
    "for index in range(50):\n",
    "    r = requests.get(BASE_URL+NEWS_URL.format(index))\n",
    "    soup = BeautifulSoup(r.text,'lxml')\n",
    "    h3 = soup.find_all('h3')\n",
    "    for tag in h3:\n",
    "        if not tag.find('a',{\"href\":True})['href'].startswith(r'/ask'):\n",
    "            input('CLICK ENTER')\n",
    "            href = tag.find('a',{\"href\":True})['href']\n",
    "            url = BASE_URL+href\n",
    "            \n",
    "            r_news = requests.get(url)\n",
    "            soup_news = BeautifulSoup(r_news.text,'lxml')\n",
    "\n",
    "            title = soup_news.find('h1').text.strip()\n",
    "            date = soup_news.find('meta',{'property':\"article:published_time\"})['content']\n",
    "            author = soup_news.find('span',{'class':'by-author'}).a.text\n",
    "            content = soup_news.find('div',{'class':'content-box'})\n",
    "            \n",
    "            print('''------------------------------------------------------------------------\n",
    "            URL: {url}\n",
    "            Title: {title}\n",
    "            Date: {date}\n",
    "            Author: {author}\n",
    "            Len of Content: {len_content}\n",
    "            '''.format(url = url, title = title, date=date, author=author, len_content=len(content)))"
   ]
  },
  {
   "cell_type": "code",
   "execution_count": 89,
   "metadata": {},
   "outputs": [],
   "source": []
  },
  {
   "cell_type": "code",
   "execution_count": 100,
   "metadata": {},
   "outputs": [],
   "source": [
    "# TITLE\n"
   ]
  },
  {
   "cell_type": "code",
   "execution_count": 104,
   "metadata": {},
   "outputs": [
    {
     "data": {
      "text/plain": [
       "'2018-10-26T16:26:00-06:00'"
      ]
     },
     "execution_count": 104,
     "metadata": {},
     "output_type": "execute_result"
    }
   ],
   "source": [
    "# DATE\n"
   ]
  },
  {
   "cell_type": "code",
   "execution_count": 112,
   "metadata": {},
   "outputs": [
    {
     "data": {
      "text/plain": [
       "'Lucas Downey'"
      ]
     },
     "execution_count": 112,
     "metadata": {},
     "output_type": "execute_result"
    }
   ],
   "source": [
    "# AUTHOR\n"
   ]
  },
  {
   "cell_type": "code",
   "execution_count": 113,
   "metadata": {},
   "outputs": [
    {
     "data": {
      "text/plain": [
       "<div class=\"content-box\">\n",
       "<p>Massive one-way readings of unusual trading in stocks have historically nailed forecasting a market due for a bounce. When this happens, it can be a heads-up for opportunistic investors. This signal is very valuable for those waiting on the sidelines for a chance to get in.</p>\n",
       "<p dir=\"ltr\">When these rare and unusual trading signals become extreme one way or the other, they can be very effective. When we see massive buying that becomes unsustainable, it means we are <a href=\"/terms/o/overbought.asp\">overbought</a>. I wrote about one of these rare signals <a href=\"/news/rare-stock-market-overbought-signal-triggers-based-institutional-activity/\">in late January</a>. Rarer still, when we see massive selling that is unsustainable, it means that we are <a href=\"/terms/o/oversold.asp\">oversold</a>. I just got that signal today. Because the signals are so infrequent, we pay close attention when they happen.</p>\n",
       "<p dir=\"ltr\">A <a href=\"/news/unusual-trading-signals-warned-us-selloff/\">couple of weeks ago</a>, I wrote an article saying that I believed a further market fall was coming. I also made it clear that I thought it would be a great buying opportunity for long-term investors. The selling signals that caused that article have intensified. We have now reached oversold levels.</p>\n",
       "<p dir=\"ltr\">The way our signal works is simple: we measure a stock's trading behavior each day and try to see if it is being bought or sold in an unusual way. Simply put, we look for stocks with rising (or falling) prices on big <a href=\"/terms/v/volume.asp\">volumes</a>. We use many short- to medium-term <a href=\"/terms/m/movingaverage.asp\">moving averages</a> along with many other technical measures. What we are really looking for is the <a href=\"/terms/d/demand.asp\">demand</a> for stocks. Then, we group all the signals and turn that data into usable information. The key is strength in numbers; by looking at thousands of stocks, we try to identify patterns. We are looking for groups of stocks showing the same patterns at once.</p>\n",
       "<p dir=\"ltr\">When we see an oversold market like now, it's because our ratio of buying to selling is plummeting. To make it simple, when our ratio reads below 25%, markets tend to bounce soon after. This basically means that, out of all the unusual trading signals we saw in the past 25 trading days, only 25% have been bought unusually and 75% have been sold. This ratio is dropping.</p>\n",
       "<p dir=\"ltr\">Right now, the MAP ratio sits at 24.7%, and it will be lower as of the close today. History tells us that, when our ratio breaks 25% to the downside, it's usually a time to have your buy list ready. Remember, the ratio measures buying vs. selling on a five-week moving average. This ratio allows us to gauge if the market is overbought (80%) or oversold (25%). Historically, it has been very accurate.</p>\n",
       "<p dir=\"ltr\">As we get closer to oversold, the ratio is telling us that selling is becoming unsustainable. When we hit that point, like right now, the market tends to catch its footing very soon after. We do expect to see lots of <a href=\"/terms/s/sell-signal.asp\">selling signals</a> once today comes to a close. But again, <a href=\"/terms/b/bottom.asp\">bottoms</a> are made when selling exhausts itself.</p>\n",
       "<p dir=\"ltr\">Below are stats on breaking the 25% level and why we feel it is important:</p>\n",
       "<p dir=\"ltr\">We have had only three instances in which the ratio has been in a downtrend and then fell below 25%. This is out of around 1,600 trading days of data, so this is a very rare event!<br/>\n",
       " <br/>\n",
       "A couple of observations on market returns after breaching below the 25% level:</p>\n",
       "<ol dir=\"ltr\"><li>The average three-week return for the iShares Russell 2000 ETF (<a href=\"/markets/etfs/iwm/\">IWM</a>) = +4.12%</li>\n",
       "<li>The average eight-week return for IWM = +7.27%</li>\n",
       "</ol><p dir=\"ltr\"> The following table details the three instances in which the ratio descended and fell below 25%:</p>\n",
       "<p dir=\"ltr\"><img alt=\"Table showing instances in which the ratio descended and fell below 25%\" src=\"//i.investopedia.com/image/png/1540590865030/ratio.png\"/></p>\n",
       "<p dir=\"ltr\">Below are the historical instances highlighted by a red circle with yellow fill:</p>\n",
       "<p dir=\"ltr\"><img alt=\"MAP ratio\" src=\"//i.investopedia.com/image/png/1540590887193/ratio_box.png\"/></p>\n",
       "<p dir=\"ltr\"><img alt=\"Chart showing the instances in which the ratio descended and fell below 25%\" src=\"//i.investopedia.com/image/png/1540590943532/ratio_chart.png\"/></p>\n",
       "<h2 dir=\"ltr\">The Bottom Line</h2>\n",
       "<p dir=\"ltr\">Our ratio indicates that unsustainable selling is here and should soon lead to a bounce in the market. This is usually a good time to scoop up great stocks. Our long-term view is bullish on the market, and our data says that the end of the selling is near or here.</p>\n",
       "<p dir=\"ltr\"><em>To learn more about Mapsignals' institutional signals, please visit <a href=\"https://mapsignals.com/about-us.html\" rel=\"nofollow\" target=\"_blank\">our \"About Us\" page</a>. </em></p>\n",
       "<p dir=\"ltr\"><em>Disclosure: The author holds no position in IWM at the time of publication.</em></p>\n",
       "<p dir=\"ltr\"><em><a href=\"https://mapsignals.com/reach-out-to-map.html\" rel=\"nofollow\" target=\"_blank\">Investment Research Disclaimer</a></em></p>\n",
       "</div>"
      ]
     },
     "execution_count": 113,
     "metadata": {},
     "output_type": "execute_result"
    }
   ],
   "source": [
    "# CONTENT\n"
   ]
  },
  {
   "cell_type": "code",
   "execution_count": 77,
   "metadata": {},
   "outputs": [
    {
     "data": {
      "text/plain": [
       "'/news/extreme-unusual-selling-says-bounce-near/'"
      ]
     },
     "execution_count": 77,
     "metadata": {},
     "output_type": "execute_result"
    }
   ],
   "source": [
    "h3[0].find('a',{\"href\":True})['href']"
   ]
  },
  {
   "cell_type": "code",
   "execution_count": 78,
   "metadata": {},
   "outputs": [
    {
     "data": {
      "text/plain": [
       "<h3 class=\"item-title\">\n",
       "<a data-act=\"investing_investing_tutorials | Title | 1\" data-cat=\"content_list\" data-label=\"Extreme Unusual Selling Says a Bounce Is Near | /news/extreme-unusual-selling-says-bounce-near/\" href=\"/news/extreme-unusual-selling-says-bounce-near/\">\n",
       "                Extreme Unusual Selling Says a Bounce Is Near            </a>\n",
       "</h3>"
      ]
     },
     "execution_count": 78,
     "metadata": {},
     "output_type": "execute_result"
    }
   ],
   "source": [
    "h3[0]"
   ]
  },
  {
   "cell_type": "code",
   "execution_count": 58,
   "metadata": {},
   "outputs": [
    {
     "data": {
      "text/plain": [
       "[<span class=\"menu-icon inv-icon-menu\"></span>,\n",
       " <span class=\"menu-title\"></span>,\n",
       " <span class=\"menu-title\" data-action=\"primary nav click\" data-category=\"global\" data-label=\"topics\">Topics</span>,\n",
       " <span class=\"article-title\" data-action=\"primary nav click\" data-category=\"global\" data-label=\"topics|article\">\n",
       "     4 Big Risks Face U.S. Investors In 'Challenging' 2019    </span>,\n",
       " <span class=\"article-title\" data-action=\"primary nav click\" data-category=\"global\" data-label=\"topics|article\">\n",
       "     Tesla Says Has Not Received Subpoena on Model 3 Production     </span>,\n",
       " <span class=\"menu-title\" data-action=\"primary nav click\" data-category=\"global\" data-label=\"reference\">Reference</span>,\n",
       " <span>Broker Reviews</span>,\n",
       " <span class=\"article-title\" data-action=\"primary nav click\" data-category=\"global\" data-label=\"reference|latest videos\">Why I Started Investing in Real Estate: Kendra Barnes</span>,\n",
       " <span class=\"menu-title\" data-action=\"primary nav click\" data-category=\"global\" data-label=\"advisors\">Advisors</span>,\n",
       " <span class=\"menu-title\" data-action=\"primary nav click\" data-category=\"global\" data-label=\"markets\">Markets</span>,\n",
       " <span class=\"menu-title\" data-action=\"primary nav click\" data-category=\"global\" data-label=\"simulator\">Simulator</span>,\n",
       " <span class=\"menu-title\" data-action=\"primary nav click\" data-category=\"global\" data-label=\"academy\">Academy</span>,\n",
       " <span class=\"menu-icon inv-icon-search\"></span>,\n",
       " <span class=\"menu-title\"></span>,\n",
       " <span class=\"menu-icon inv-icon-user\"></span>,\n",
       " <span class=\"menu-title\"></span>,\n",
       " <span class=\"menu-title\">Newsletters</span>,\n",
       " <span class=\"menu-icon inv-icon-newsletters\"></span>,\n",
       " <span class=\"by-author \">\n",
       "     By <a href=\"/contributors/54001/\">Mark Kolakowski</a> | October 19, 2018 — 12:00 PM EDT    </span>,\n",
       " <span>Share</span>,\n",
       " <span class=\"\">\n",
       " </span>,\n",
       " <span class=\"inv-icon-facebook\"></span>,\n",
       " <span class=\"inv-icon-twitter\"></span>,\n",
       " <span class=\"inv-icon-linkedin-1\"></span>,\n",
       " <span class=\"inv-icon-rss-1\"></span>,\n",
       " <span class=\"inv-icon-stocktwits\"></span>,\n",
       " <span class=\"inv-icon-youtube-play\"></span>,\n",
       " <span class=\"menu-title\">Newsletters</span>,\n",
       " <span class=\"menu-icon-footer inv-icon-newsletters\"></span>,\n",
       " <span>© 2018, Investopedia, LLC.</span>,\n",
       " <span class=\"footer-legal-links\">\n",
       " <a href=\"/corp/copyright.aspx\">All Rights Reserved</a>\n",
       " <a href=\"/corp/termsofuse.aspx\">Terms Of Use</a>\n",
       " <a class=\"last\" href=\"/corp/privacypolicy.aspx\">Privacy &amp; Cookie Policy</a>\n",
       " </span>,\n",
       " <span data-parsely-site=\"investopedia.com\" id=\"parsely-cfg\"></span>]"
      ]
     },
     "execution_count": 58,
     "metadata": {},
     "output_type": "execute_result"
    }
   ],
   "source": [
    "span"
   ]
  }
 ],
 "metadata": {
  "kernelspec": {
   "display_name": "Python 3",
   "language": "python",
   "name": "python3"
  },
  "language_info": {
   "codemirror_mode": {
    "name": "ipython",
    "version": 3
   },
   "file_extension": ".py",
   "mimetype": "text/x-python",
   "name": "python",
   "nbconvert_exporter": "python",
   "pygments_lexer": "ipython3",
   "version": "3.7.0"
  }
 },
 "nbformat": 4,
 "nbformat_minor": 2
}
